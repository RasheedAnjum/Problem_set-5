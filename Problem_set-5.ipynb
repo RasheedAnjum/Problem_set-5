{
 "cells": [
  {
   "cell_type": "code",
   "execution_count": 1,
   "id": "6687a6af-366f-451b-bfa7-a4fed37acd2e",
   "metadata": {},
   "outputs": [],
   "source": [
    "#!/usr/bin/env python\n",
    "from sqlalchemy import MetaData\n",
    "from sqlalchemy import create_engine\n",
    "from sqlalchemy import Integer, String\n",
    "from sqlalchemy import Table, Column\n",
    "from sqlalchemy import sql, select, join, desc\n",
    "import pandas as pd\n",
    "import matplotlib.pyplot as pt\n"
   ]
  },
  {
   "cell_type": "code",
   "execution_count": 16,
   "id": "4e724737-9e56-44d2-b4b8-235a2cbd1a5a",
   "metadata": {},
   "outputs": [],
   "source": [
    "#Creating an engine object which would be the handle into the database.\n",
    "engine = create_engine('sqlite:///world.sqlite')\n",
    "\n",
    "#Connecting to the database\n",
    "conn = engine.connect()\n",
    "\n",
    "#Read the metadata from the existing database.\n",
    "#Since the database already exists and has tables defined, we can create Python objects based on these automatically.\n",
    "DataBaseInfo=MetaData(engine)\n"
   ]
  },
  {
   "cell_type": "code",
   "execution_count": 31,
   "id": "760e9fa6-aff4-4ff0-8ff7-831ec89f13df",
   "metadata": {},
   "outputs": [],
   "source": [
    "#Auto-create the country object based on the metadata read into the DBInfo.\n",
    "country=Table('country', DataBaseInfo, autoload=True)\n",
    "\n",
    "#Mirroring this command: SELECT GNP, LifeExpectancy FROM country;\n",
    "query=select([country.c.GNP, country.c.LifeExpectancy])\n"
   ]
  },
  {
   "cell_type": "code",
   "execution_count": 32,
   "id": "bb81a693-0ef8-406a-9660-48015cad3c12",
   "metadata": {},
   "outputs": [],
   "source": [
    "#Reading the SQL query results into a Pandas data frame\n",
    "df=pd.read_sql(query, conn)\n",
    "#df.tail()\n"
   ]
  },
  {
   "cell_type": "code",
   "execution_count": 36,
   "id": "f5fa2ecb-ff5d-4d88-b3a2-9502e68ea90e",
   "metadata": {},
   "outputs": [
    {
     "data": {
      "image/png": "[encoded data removed]",
      "text/plain": [
       "<Figure size 432x288 with 1 Axes>"
      ]
     },
     "metadata": {
      "needs_background": "light"
     },
     "output_type": "display_data"
    }
   ],
   "source": [
    "#Graph Plot\n",
    "df.plot.scatter(x='GNP', y='LifeExpectancy', c='green')\n",
    "pt.savefig('Problem_Set-5.jpeg', dpi=600)\n",
    "pt.show()\n",
    "\n"
   ]
  },
  {
   "cell_type": "code",
   "execution_count": null,
   "id": "64e6b845-ca66-4a38-887c-96afc7f1ef4a",
   "metadata": {},
   "outputs": [],
   "source": []
  }
 ],
 "metadata": {
  "kernelspec": {
   "display_name": "UFRC Python-3.10",
   "language": "python",
   "name": "python3-3.10-ufrc"
  },
  "language_info": {
   "codemirror_mode": {
    "name": "ipython",
    "version": 3
   },
   "file_extension": ".py",
   "mimetype": "text/x-python",
   "name": "python",
   "nbconvert_exporter": "python",
   "pygments_lexer": "ipython3",
   "version": "3.10.5"
  }
 },
 "nbformat": 4,
 "nbformat_minor": 5
}
