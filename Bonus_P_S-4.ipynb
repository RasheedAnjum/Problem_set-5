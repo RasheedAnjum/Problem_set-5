{
 "cells": [
  {
   "cell_type": "code",
   "execution_count": 1,
   "id": "9c415abe-297a-4761-90f7-c1acbd8d1679",
   "metadata": {},
   "outputs": [],
   "source": [
    "#!/usr/bin/env python\n",
    "from sqlalchemy import MetaData\n",
    "from sqlalchemy import create_engine\n",
    "from sqlalchemy import Integer, String\n",
    "from sqlalchemy import Table, Column, ForeignKey\n",
    "from sqlalchemy import sql, select, join, desc\n",
    "from sqlalchemy.sql import func\n",
    "import pandas as pd\n",
    "import matplotlib.pyplot as pt\n"
   ]
  },
  {
   "cell_type": "code",
   "execution_count": 2,
   "id": "b885c5a6-bf4b-4445-bdc3-30f57d83e18b",
   "metadata": {},
   "outputs": [],
   "source": [
    "\n",
    "#Create a Engine object which is our handle into the database.\n",
    "engine = create_engine('sqlite:///world.sqlite')\n",
    "\n",
    "#Connect to the database\n",
    "conn = engine.connect()\n",
    "\n",
    "#Read the metadata from the existing database.\n",
    "#Since the database already exists and has tables defined, we can create Python objects based on these automatically.\n",
    "DataBaseInfo=MetaData(engine)\n"
   ]
  },
  {
   "cell_type": "code",
   "execution_count": 3,
   "id": "1ba10048-698a-425b-a40d-e9b58ab35536",
   "metadata": {},
   "outputs": [],
   "source": [
    "\n",
    "# Auto-create the objects based on the metadata read into the DBInfo.\n",
    "country=Table('country', DataBaseInfo, autoload=True)\n",
    "city=Table('city', DataBaseInfo, autoload=True)\n",
    "\n",
    "# Mirroring this command: SELECT country.Code, country.Population, country.LifeExpectancy SUM(city.Population), FROM country JOIN city \n",
    "# ON Code=CountryCode GROUP BY Code;\n",
    "query=select([country.c.Code, country.c.Population, func.sum(city.c.Population).label(\"sum_city_population\"), country.c.LifeExpectancy])\n",
    "query=query.select_from(join(query.froms[0], city, country.c.Code==city.c.CountryCode)).group_by(country.c.Code)\n"
   ]
  },
  {
   "cell_type": "code",
   "execution_count": 4,
   "id": "bbc427e3-c2bd-43d9-98a1-598527d043c3",
   "metadata": {},
   "outputs": [
    {
     "data": {
      "text/html": [
       "<div>\n",
       "<style scoped>\n",
       "    .dataframe tbody tr th:only-of-type {\n",
       "        vertical-align: middle;\n",
       "    }\n",
       "\n",
       "    .dataframe tbody tr th {\n",
       "        vertical-align: top;\n",
       "    }\n",
       "\n",
       "    .dataframe thead th {\n",
       "        text-align: right;\n",
       "    }\n",
       "</style>\n",
       "<table border=\"1\" class=\"dataframe\">\n",
       "  <thead>\n",
       "    <tr style=\"text-align: right;\">\n",
       "      <th></th>\n",
       "      <th>Code</th>\n",
       "      <th>Population</th>\n",
       "      <th>sum_city_population</th>\n",
       "      <th>LifeExpectancy</th>\n",
       "    </tr>\n",
       "  </thead>\n",
       "  <tbody>\n",
       "    <tr>\n",
       "      <th>0</th>\n",
       "      <td>ABW</td>\n",
       "      <td>103000</td>\n",
       "      <td>29034</td>\n",
       "      <td>78.4</td>\n",
       "    </tr>\n",
       "    <tr>\n",
       "      <th>1</th>\n",
       "      <td>AFG</td>\n",
       "      <td>22720000</td>\n",
       "      <td>2332100</td>\n",
       "      <td>45.9</td>\n",
       "    </tr>\n",
       "    <tr>\n",
       "      <th>2</th>\n",
       "      <td>AGO</td>\n",
       "      <td>12878000</td>\n",
       "      <td>2561600</td>\n",
       "      <td>38.3</td>\n",
       "    </tr>\n",
       "    <tr>\n",
       "      <th>3</th>\n",
       "      <td>AIA</td>\n",
       "      <td>8000</td>\n",
       "      <td>1556</td>\n",
       "      <td>76.1</td>\n",
       "    </tr>\n",
       "    <tr>\n",
       "      <th>4</th>\n",
       "      <td>ALB</td>\n",
       "      <td>3401200</td>\n",
       "      <td>270000</td>\n",
       "      <td>71.6</td>\n",
       "    </tr>\n",
       "    <tr>\n",
       "      <th>5</th>\n",
       "      <td>AND</td>\n",
       "      <td>78000</td>\n",
       "      <td>21189</td>\n",
       "      <td>83.5</td>\n",
       "    </tr>\n",
       "    <tr>\n",
       "      <th>6</th>\n",
       "      <td>ANT</td>\n",
       "      <td>217000</td>\n",
       "      <td>2345</td>\n",
       "      <td>74.7</td>\n",
       "    </tr>\n",
       "  </tbody>\n",
       "</table>\n",
       "</div>"
      ],
      "text/plain": [
       "  Code  Population  sum_city_population  LifeExpectancy\n",
       "0  ABW      103000                29034            78.4\n",
       "1  AFG    22720000              2332100            45.9\n",
       "2  AGO    12878000              2561600            38.3\n",
       "3  AIA        8000                 1556            76.1\n",
       "4  ALB     3401200               270000            71.6\n",
       "5  AND       78000                21189            83.5\n",
       "6  ANT      217000                 2345            74.7"
      ]
     },
     "execution_count": 4,
     "metadata": {},
     "output_type": "execute_result"
    }
   ],
   "source": [
    "#Reading SQL query results into a Pandas data frame\n",
    "df=pd.read_sql(query, conn)\n",
    "df.head(7)"
   ]
  },
  {
   "cell_type": "code",
   "execution_count": 5,
   "id": "40aa4d21-fcd7-43c5-9666-913e3ef44904",
   "metadata": {},
   "outputs": [
    {
     "data": {
      "text/html": [
       "<div>\n",
       "<style scoped>\n",
       "    .dataframe tbody tr th:only-of-type {\n",
       "        vertical-align: middle;\n",
       "    }\n",
       "\n",
       "    .dataframe tbody tr th {\n",
       "        vertical-align: top;\n",
       "    }\n",
       "\n",
       "    .dataframe thead th {\n",
       "        text-align: right;\n",
       "    }\n",
       "</style>\n",
       "<table border=\"1\" class=\"dataframe\">\n",
       "  <thead>\n",
       "    <tr style=\"text-align: right;\">\n",
       "      <th></th>\n",
       "      <th>Code</th>\n",
       "      <th>Population</th>\n",
       "      <th>sum_city_population</th>\n",
       "      <th>LifeExpectancy</th>\n",
       "      <th>ratio</th>\n",
       "    </tr>\n",
       "  </thead>\n",
       "  <tbody>\n",
       "    <tr>\n",
       "      <th>0</th>\n",
       "      <td>ABW</td>\n",
       "      <td>103000</td>\n",
       "      <td>29034</td>\n",
       "      <td>78.4</td>\n",
       "      <td>0.281883</td>\n",
       "    </tr>\n",
       "    <tr>\n",
       "      <th>1</th>\n",
       "      <td>AFG</td>\n",
       "      <td>22720000</td>\n",
       "      <td>2332100</td>\n",
       "      <td>45.9</td>\n",
       "      <td>0.102645</td>\n",
       "    </tr>\n",
       "    <tr>\n",
       "      <th>2</th>\n",
       "      <td>AGO</td>\n",
       "      <td>12878000</td>\n",
       "      <td>2561600</td>\n",
       "      <td>38.3</td>\n",
       "      <td>0.198913</td>\n",
       "    </tr>\n",
       "    <tr>\n",
       "      <th>3</th>\n",
       "      <td>AIA</td>\n",
       "      <td>8000</td>\n",
       "      <td>1556</td>\n",
       "      <td>76.1</td>\n",
       "      <td>0.194500</td>\n",
       "    </tr>\n",
       "    <tr>\n",
       "      <th>4</th>\n",
       "      <td>ALB</td>\n",
       "      <td>3401200</td>\n",
       "      <td>270000</td>\n",
       "      <td>71.6</td>\n",
       "      <td>0.079384</td>\n",
       "    </tr>\n",
       "    <tr>\n",
       "      <th>5</th>\n",
       "      <td>AND</td>\n",
       "      <td>78000</td>\n",
       "      <td>21189</td>\n",
       "      <td>83.5</td>\n",
       "      <td>0.271654</td>\n",
       "    </tr>\n",
       "    <tr>\n",
       "      <th>6</th>\n",
       "      <td>ANT</td>\n",
       "      <td>217000</td>\n",
       "      <td>2345</td>\n",
       "      <td>74.7</td>\n",
       "      <td>0.010806</td>\n",
       "    </tr>\n",
       "  </tbody>\n",
       "</table>\n",
       "</div>"
      ],
      "text/plain": [
       "  Code  Population  sum_city_population  LifeExpectancy     ratio\n",
       "0  ABW      103000                29034            78.4  0.281883\n",
       "1  AFG    22720000              2332100            45.9  0.102645\n",
       "2  AGO    12878000              2561600            38.3  0.198913\n",
       "3  AIA        8000                 1556            76.1  0.194500\n",
       "4  ALB     3401200               270000            71.6  0.079384\n",
       "5  AND       78000                21189            83.5  0.271654\n",
       "6  ANT      217000                 2345            74.7  0.010806"
      ]
     },
     "execution_count": 5,
     "metadata": {},
     "output_type": "execute_result"
    }
   ],
   "source": [
    "#Calculating the ratio by dividing 'sum_city_population' column by 'Population' column,\n",
    "#Then assigning to a new column named 'ratio'\n",
    "df[\"ratio\"] = df[\"sum_city_population\"]/df[\"Population\"]\n",
    "df.head(7)"
   ]
  },
  {
   "cell_type": "code",
   "execution_count": 10,
   "id": "554975b1-42b0-42d5-98ce-b817132052dc",
   "metadata": {},
   "outputs": [
    {
     "data": {
      "image/png": "[encoded data removed]",
      "text/plain": [
       "<Figure size 432x288 with 1 Axes>"
      ]
     },
     "metadata": {
      "needs_background": "light"
     },
     "output_type": "display_data"
    }
   ],
   "source": [
    "#Graph plot\n",
    "df.plot.scatter(x='ratio', y='LifeExpectancy', c='purple')\n",
    "pt.xlabel(\"Approximation of the % urban population\")\n",
    "pt.savefig('Bonus_P-5.jpeg', dpi=600)\n",
    "pt.show()\n"
   ]
  },
  {
   "cell_type": "code",
   "execution_count": null,
   "id": "4231bb27-9bf0-4884-b756-1be2bc4a9bc2",
   "metadata": {},
   "outputs": [],
   "source": []
  }
 ],
 "metadata": {
  "kernelspec": {
   "display_name": "UFRC Python-3.10",
   "language": "python",
   "name": "python3-3.10-ufrc"
  },
  "language_info": {
   "codemirror_mode": {
    "name": "ipython",
    "version": 3
   },
   "file_extension": ".py",
   "mimetype": "text/x-python",
   "name": "python",
   "nbconvert_exporter": "python",
   "pygments_lexer": "ipython3",
   "version": "3.10.5"
  }
 },
 "nbformat": 4,
 "nbformat_minor": 5
}
